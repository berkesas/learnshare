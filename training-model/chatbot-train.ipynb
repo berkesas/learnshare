{
 "cells": [
  {
   "cell_type": "markdown",
   "id": "c80fb277-1fa5-4896-8cda-f8736956b74b",
   "metadata": {},
   "source": [
    "# Chatbot Training and Usage"
   ]
  },
  {
   "cell_type": "markdown",
   "id": "bc3f87f8-2cb2-453e-92b5-ef7e0873d91d",
   "metadata": {},
   "source": [
    "By Nazar Mammedov, Date updated: August 22 2024. The original training code is from https://github.com/patrickloeber/chatbot-deployment by Patrick Loeber."
   ]
  },
  {
   "cell_type": "markdown",
   "id": "3d39bb9b-4d70-4e33-9111-2b1792f654e6",
   "metadata": {},
   "source": [
    "## Prepare the environment\n",
    "Install the dependencies. You can uncomment and run the installing commands. We install torch and torchvision for machine learning, nltk for natural language processing functionality, matplotlib for plotting charts, and openpyxl for creating JSON file from an Excel file. matplotlib and openpyxl are not required to train the model. But they are useful in the overall setup."
   ]
  },
  {
   "cell_type": "code",
   "execution_count": 61,
   "id": "c342b087-9a58-40ba-9192-4bf568489b80",
   "metadata": {},
   "outputs": [],
   "source": [
    "#!pip install torch\n",
    "#!pip install torchvision \n",
    "#!pip install nltk\n",
    "#!pip install matplotlib #needed if you want to plot your training\n",
    "#!pip install openpyxl #needed if you want to create intents.json file from an Excel file"
   ]
  },
  {
   "cell_type": "markdown",
   "id": "668dacfb-e966-4ca5-96f2-1d67919141d2",
   "metadata": {},
   "source": [
    "Download nltk package dependencies"
   ]
  },
  {
   "cell_type": "code",
   "execution_count": 62,
   "id": "7f8986cd-8eef-4ff9-b560-321eeea1cff1",
   "metadata": {
    "scrolled": true
   },
   "outputs": [
    {
     "name": "stderr",
     "output_type": "stream",
     "text": [
      "[nltk_data] Downloading package punkt to\n",
      "[nltk_data]     C:\\Users\\Nazar\\AppData\\Roaming\\nltk_data...\n",
      "[nltk_data]   Package punkt is already up-to-date!\n"
     ]
    },
    {
     "data": {
      "text/plain": [
       "True"
      ]
     },
     "execution_count": 62,
     "metadata": {},
     "output_type": "execute_result"
    }
   ],
   "source": [
    "import nltk\n",
    "nltk.download('punkt')"
   ]
  },
  {
   "cell_type": "markdown",
   "id": "cb947a16-c492-41cf-9c50-d795dc908827",
   "metadata": {},
   "source": [
    "## Prepare libraries"
   ]
  },
  {
   "cell_type": "markdown",
   "id": "551d0fdc-90ad-4533-acb1-df9536922624",
   "metadata": {},
   "source": [
    "First let's import the libraries we need for our code"
   ]
  },
  {
   "cell_type": "code",
   "execution_count": 3,
   "id": "c38faca7-3b0f-47e8-976d-fa4d27c4b5b5",
   "metadata": {},
   "outputs": [],
   "source": [
    "import numpy as np\n",
    "import random\n",
    "import json\n",
    "import nltk\n",
    "import matplotlib.pyplot as plt\n",
    "\n",
    "import torch\n",
    "import torch.nn as nn\n",
    "from torch.utils.data import Dataset, DataLoader"
   ]
  },
  {
   "cell_type": "markdown",
   "id": "b214e808-d426-456c-a578-a880bad35ae5",
   "metadata": {},
   "source": [
    "We also need to import our own code"
   ]
  },
  {
   "cell_type": "code",
   "execution_count": 4,
   "id": "8b2acc72-0277-4691-bf7c-df82b23971f3",
   "metadata": {},
   "outputs": [],
   "source": [
    "from nltk_utils import bag_of_words, tokenize, stem\n",
    "from model import NeuralNet"
   ]
  },
  {
   "cell_type": "markdown",
   "id": "0c5866e0-b9ed-4446-bc01-3499b0646aa4",
   "metadata": {},
   "source": [
    "## Loading data"
   ]
  },
  {
   "cell_type": "markdown",
   "id": "67eec4ca-2250-440a-86fd-8634b64b2ac1",
   "metadata": {},
   "source": [
    "We load our data from JSON file."
   ]
  },
  {
   "cell_type": "code",
   "execution_count": 5,
   "id": "e090d35b-b8f7-4f94-88c0-e7f11f634d8d",
   "metadata": {},
   "outputs": [
    {
     "data": {
      "text/plain": [
       "{'intents': [{'tag': 'greeting',\n",
       "   'proposable': False,\n",
       "   'patterns': ['Hi', 'Hey'],\n",
       "   'responses': ['Hello', 'Hi']},\n",
       "  {'tag': 'goodbye',\n",
       "   'proposable': False,\n",
       "   'patterns': ['Bye', 'See you later', 'Goodbye', 'Goodbye'],\n",
       "   'responses': ['See you later, thanks for visiting',\n",
       "    'Have a nice day',\n",
       "    'Bye! Come back again soon.']},\n",
       "  {'tag': 'thanks',\n",
       "   'proposable': False,\n",
       "   'patterns': ['Thank you', 'Thanks'],\n",
       "   'responses': [\"You're welcome! Thanks for visiting!\",\n",
       "    'You are welcome! Thanks for exploring my website!']},\n",
       "  {'tag': 'originplace',\n",
       "   'proposable': True,\n",
       "   'patterns': ['Where are you from?'],\n",
       "   'responses': ['I am originally from Wakanda and I lived in many different places including Panem, Themyscira, and Pandora.']},\n",
       "  {'tag': 'currentplace',\n",
       "   'proposable': True,\n",
       "   'patterns': ['Where do you live?'],\n",
       "   'responses': ['I currently live in the Greater Zubrovka area.']},\n",
       "  {'tag': 'cofee',\n",
       "   'proposable': False,\n",
       "   'patterns': ['Do you like coffee?'],\n",
       "   'responses': ['Yes, I like coffee. But only good quality.']},\n",
       "  {'tag': 'food',\n",
       "   'proposable': False,\n",
       "   'patterns': ['What kind of food do you like?'],\n",
       "   'responses': ['I like traditional food, rice, meat, and bakeries.']},\n",
       "  {'tag': 'car',\n",
       "   'proposable': False,\n",
       "   'patterns': ['What is your favorite car?'],\n",
       "   'responses': ['I like sedan size cars.']}]}"
      ]
     },
     "execution_count": 5,
     "metadata": {},
     "output_type": "execute_result"
    }
   ],
   "source": [
    "with open('chatbot_intents.json', 'r') as f:\n",
    "    intents = json.load(f)\n",
    "\n",
    "# list intents to see\n",
    "intents"
   ]
  },
  {
   "cell_type": "markdown",
   "id": "630600f8-5073-4a4b-b7c9-b735032e4c9c",
   "metadata": {},
   "source": [
    "## Creating pairs of patterns and intents\n",
    "We iterate over the intents list and create a new `xy` list where patterns and intents are paired in a tuple."
   ]
  },
  {
   "cell_type": "code",
   "execution_count": 6,
   "id": "62457637-1f63-4646-a06d-483dedef07b5",
   "metadata": {},
   "outputs": [
    {
     "data": {
      "text/plain": [
       "[(['Hi'], 'greeting'),\n",
       " (['Hey'], 'greeting'),\n",
       " (['Bye'], 'goodbye'),\n",
       " (['See', 'you', 'later'], 'goodbye'),\n",
       " (['Goodbye'], 'goodbye'),\n",
       " (['Goodbye'], 'goodbye'),\n",
       " (['Thank', 'you'], 'thanks'),\n",
       " (['Thanks'], 'thanks'),\n",
       " (['Where', 'are', 'you', 'from', '?'], 'originplace'),\n",
       " (['Where', 'do', 'you', 'live', '?'], 'currentplace'),\n",
       " (['Do', 'you', 'like', 'coffee', '?'], 'cofee'),\n",
       " (['What', 'kind', 'of', 'food', 'do', 'you', 'like', '?'], 'food'),\n",
       " (['What', 'is', 'your', 'favorite', 'car', '?'], 'car')]"
      ]
     },
     "execution_count": 6,
     "metadata": {},
     "output_type": "execute_result"
    }
   ],
   "source": [
    "all_words = []\n",
    "tags = []\n",
    "xy = []\n",
    "for intent in intents['intents']:\n",
    "    tag = intent['tag']\n",
    "    tags.append(tag) # add the tag to its list\n",
    "    for pattern in intent['patterns']:\n",
    "        w = tokenize(pattern) # tokenize the pattern\n",
    "        all_words.extend(w) # add to the words list as items\n",
    "        xy.append((w, tag))\n",
    "\n",
    "# let's see what's inside xy now\n",
    "xy"
   ]
  },
  {
   "cell_type": "markdown",
   "id": "9e504cf2-950d-4be0-b713-ac188385d463",
   "metadata": {},
   "source": [
    "## Normalize data\n",
    "Let's clean the words, convert its case and stem it."
   ]
  },
  {
   "cell_type": "code",
   "execution_count": 7,
   "id": "a597560c-c65d-4298-9b35-4d0689350d45",
   "metadata": {},
   "outputs": [
    {
     "name": "stdout",
     "output_type": "stream",
     "text": [
      "13 patterns\n",
      "8 tags: ['car', 'cofee', 'currentplace', 'food', 'goodbye', 'greeting', 'originplace', 'thanks']\n",
      "23 unique stemmed words: ['are', 'bye', 'car', 'coffe', 'do', 'favorit', 'food', 'from', 'goodby', 'hey', 'hi', 'is', 'kind', 'later', 'like', 'live', 'of', 'see', 'thank', 'what', 'where', 'you', 'your']\n"
     ]
    }
   ],
   "source": [
    "# stem and lower each word\n",
    "ignore_words = ['?', '.', '!']\n",
    "all_words = [stem(w) for w in all_words if w not in ignore_words]\n",
    "# remove duplicates and sort\n",
    "all_words = sorted(set(all_words))\n",
    "tags = sorted(set(tags))\n",
    "\n",
    "print(len(xy), \"patterns\")\n",
    "print(len(tags), \"tags:\", tags)\n",
    "print(len(all_words), \"unique stemmed words:\", all_words)"
   ]
  },
  {
   "cell_type": "markdown",
   "id": "7c4e3eee-e880-4f67-8d29-0e3441e50715",
   "metadata": {},
   "source": [
    "Now we add the pattern to X variable and tag to Y variable"
   ]
  },
  {
   "cell_type": "code",
   "execution_count": 8,
   "id": "df50a8b3-526b-4518-9093-945a82c60094",
   "metadata": {},
   "outputs": [],
   "source": [
    "# create training data\n",
    "X_train = []\n",
    "y_train = []\n",
    "for (pattern_sentence, tag) in xy:\n",
    "    # X: bag of words for each pattern_sentence\n",
    "    bag = bag_of_words(pattern_sentence, all_words)\n",
    "    X_train.append(bag)\n",
    "    # y: PyTorch CrossEntropyLoss needs only class labels, not one-hot\n",
    "    label = tags.index(tag)\n",
    "    y_train.append(label)"
   ]
  },
  {
   "cell_type": "markdown",
   "id": "9277dbcd-c473-4dbd-87d5-7b0b1f99a9f9",
   "metadata": {},
   "source": [
    "Content of X and Y. Now everything is a number and the machine is ready to look for the relationships."
   ]
  },
  {
   "cell_type": "code",
   "execution_count": 9,
   "id": "e33bc118-ccda-4288-862d-147d8731fc63",
   "metadata": {
    "scrolled": true
   },
   "outputs": [
    {
     "data": {
      "text/plain": [
       "[array([0., 0., 0., 0., 0., 0., 0., 0., 0., 0., 1., 0., 0., 0., 0., 0., 0.,\n",
       "        0., 0., 0., 0., 0., 0.], dtype=float32),\n",
       " array([0., 0., 0., 0., 0., 0., 0., 0., 0., 1., 0., 0., 0., 0., 0., 0., 0.,\n",
       "        0., 0., 0., 0., 0., 0.], dtype=float32),\n",
       " array([0., 1., 0., 0., 0., 0., 0., 0., 0., 0., 0., 0., 0., 0., 0., 0., 0.,\n",
       "        0., 0., 0., 0., 0., 0.], dtype=float32),\n",
       " array([0., 0., 0., 0., 0., 0., 0., 0., 0., 0., 0., 0., 0., 1., 0., 0., 0.,\n",
       "        1., 0., 0., 0., 1., 0.], dtype=float32),\n",
       " array([0., 0., 0., 0., 0., 0., 0., 0., 1., 0., 0., 0., 0., 0., 0., 0., 0.,\n",
       "        0., 0., 0., 0., 0., 0.], dtype=float32),\n",
       " array([0., 0., 0., 0., 0., 0., 0., 0., 1., 0., 0., 0., 0., 0., 0., 0., 0.,\n",
       "        0., 0., 0., 0., 0., 0.], dtype=float32),\n",
       " array([0., 0., 0., 0., 0., 0., 0., 0., 0., 0., 0., 0., 0., 0., 0., 0., 0.,\n",
       "        0., 1., 0., 0., 1., 0.], dtype=float32),\n",
       " array([0., 0., 0., 0., 0., 0., 0., 0., 0., 0., 0., 0., 0., 0., 0., 0., 0.,\n",
       "        0., 1., 0., 0., 0., 0.], dtype=float32),\n",
       " array([1., 0., 0., 0., 0., 0., 0., 1., 0., 0., 0., 0., 0., 0., 0., 0., 0.,\n",
       "        0., 0., 0., 1., 1., 0.], dtype=float32),\n",
       " array([0., 0., 0., 0., 1., 0., 0., 0., 0., 0., 0., 0., 0., 0., 0., 1., 0.,\n",
       "        0., 0., 0., 1., 1., 0.], dtype=float32),\n",
       " array([0., 0., 0., 1., 1., 0., 0., 0., 0., 0., 0., 0., 0., 0., 1., 0., 0.,\n",
       "        0., 0., 0., 0., 1., 0.], dtype=float32),\n",
       " array([0., 0., 0., 0., 1., 0., 1., 0., 0., 0., 0., 0., 1., 0., 1., 0., 1.,\n",
       "        0., 0., 1., 0., 1., 0.], dtype=float32),\n",
       " array([0., 0., 1., 0., 0., 1., 0., 0., 0., 0., 0., 1., 0., 0., 0., 0., 0.,\n",
       "        0., 0., 1., 0., 0., 1.], dtype=float32)]"
      ]
     },
     "execution_count": 9,
     "metadata": {},
     "output_type": "execute_result"
    }
   ],
   "source": [
    "X_train"
   ]
  },
  {
   "cell_type": "code",
   "execution_count": 10,
   "id": "a3b30cd0-81f4-443b-8aea-15b6748eb5d5",
   "metadata": {},
   "outputs": [
    {
     "data": {
      "text/plain": [
       "[5, 5, 4, 4, 4, 4, 7, 7, 6, 2, 1, 3, 0]"
      ]
     },
     "execution_count": 10,
     "metadata": {},
     "output_type": "execute_result"
    }
   ],
   "source": [
    "y_train"
   ]
  },
  {
   "cell_type": "markdown",
   "id": "d3db5256-f5a2-434a-85b5-79c9b0c381fc",
   "metadata": {},
   "source": [
    "We convert everything to a number array now using numpy. This is needed because training will work on numpy arrays."
   ]
  },
  {
   "cell_type": "code",
   "execution_count": 11,
   "id": "2bf946c2-5d86-44b4-b303-cdc6da703836",
   "metadata": {},
   "outputs": [],
   "source": [
    "X_train = np.array(X_train)\n",
    "y_train = np.array(y_train)"
   ]
  },
  {
   "cell_type": "markdown",
   "id": "9358ff7c-e537-46c2-bd77-2c2072454b65",
   "metadata": {},
   "source": [
    "## Setting training parameters\n",
    "We set training hyper parameters here. They don't change during the training process. Number of **epochs** indicates how many times should the machine pass through the data. \n",
    "The **batch size** indicates how many pieces of data the training should work on in one batch. An **iteration** is one update of the model’s parameters. The number of iterations per epoch is determined by dividing the total number of training samples by the batch size. For instance, if there are 100 rows and you have a batch size of 5, then you will have 20 iterations per epoch.\n",
    "\n",
    "The **learning rate** determines the size of the steps the optimizer takes when updating the model’s weights. A higher learning rate means larger steps, while a lower learning rate means smaller steps. If we make it too small, the training can be slow. If it is too big, the training may not be fine enough to find the best weights.\n",
    "\n",
    "We take input layer's size from the size of the first item in X. The hidden layer size 8 is subjectively chosen. We can experiment with different settings. Output layer size is the number of classes (intents) available. This is calculated from the size of the tags list which contains unique tags."
   ]
  },
  {
   "cell_type": "code",
   "execution_count": 23,
   "id": "488cd747-410b-4764-90ed-aa1093437833",
   "metadata": {},
   "outputs": [
    {
     "name": "stdout",
     "output_type": "stream",
     "text": [
      "23 8\n"
     ]
    }
   ],
   "source": [
    "# Hyper-parameters \n",
    "num_epochs = 1800\n",
    "batch_size = 8\n",
    "learning_rate = 0.001\n",
    "input_size = len(X_train[0])\n",
    "hidden_size = 8\n",
    "output_size = len(tags)\n",
    "print(input_size, output_size)\n",
    "\n",
    "# Use CUDA GPU if available. If not use CPU\n",
    "device = torch.device('cuda' if torch.cuda.is_available() else 'cpu')\n",
    "\n",
    "# Create the raw model from NeuralNet class with input parameters\n",
    "model = NeuralNet(input_size, hidden_size, output_size).to(device)\n",
    "\n",
    "# Set how loss is calculated and the model is optimized\n",
    "criterion = nn.CrossEntropyLoss()\n",
    "optimizer = torch.optim.Adam(model.parameters(), lr=learning_rate)"
   ]
  },
  {
   "cell_type": "code",
   "execution_count": 20,
   "id": "218afb0d-f2c2-4c1b-b38a-04500975ba1a",
   "metadata": {},
   "outputs": [],
   "source": [
    "class ChatDataset(Dataset):\n",
    "\n",
    "    def __init__(self):\n",
    "        self.n_samples = len(X_train)\n",
    "        self.x_data = X_train\n",
    "        self.y_data = y_train\n",
    "\n",
    "    # support indexing such that dataset[i] can be used to get i-th sample\n",
    "    def __getitem__(self, index):\n",
    "        return self.x_data[index], self.y_data[index]\n",
    "\n",
    "    # we can call len(dataset) to return the size\n",
    "    def __len__(self):\n",
    "        return self.n_samples\n",
    "\n",
    "dataset = ChatDataset()\n",
    "train_loader = DataLoader(dataset=dataset,\n",
    "                          batch_size=batch_size,\n",
    "                          shuffle=True,\n",
    "                          num_workers=0)"
   ]
  },
  {
   "cell_type": "code",
   "execution_count": 21,
   "id": "16f9d63a-7f0f-476b-8b56-35b8d025d36b",
   "metadata": {
    "scrolled": true
   },
   "outputs": [
    {
     "name": "stdout",
     "output_type": "stream",
     "text": [
      "Epoch [100/1800], Loss: 1.8339\n",
      "Epoch [200/1800], Loss: 0.8642\n",
      "Epoch [300/1800], Loss: 0.4017\n",
      "Epoch [400/1800], Loss: 0.4978\n",
      "Epoch [500/1800], Loss: 0.4680\n",
      "Epoch [600/1800], Loss: 0.0679\n",
      "Epoch [700/1800], Loss: 0.1583\n",
      "Epoch [800/1800], Loss: 0.0187\n",
      "Epoch [900/1800], Loss: 0.0128\n",
      "Epoch [1000/1800], Loss: 0.0115\n",
      "Epoch [1100/1800], Loss: 0.0097\n",
      "Epoch [1200/1800], Loss: 0.0057\n",
      "Epoch [1300/1800], Loss: 0.0049\n",
      "Epoch [1400/1800], Loss: 0.0037\n",
      "Epoch [1500/1800], Loss: 0.0026\n",
      "Epoch [1600/1800], Loss: 0.0021\n",
      "Epoch [1700/1800], Loss: 0.0023\n",
      "Epoch [1800/1800], Loss: 0.0017\n"
     ]
    }
   ],
   "source": [
    "# Train the model\n",
    "epochs_list = []\n",
    "loss_list = []\n",
    "for epoch in range(num_epochs):\n",
    "    for (words, labels) in train_loader:\n",
    "        words = words.to(device)\n",
    "        labels = labels.to(dtype=torch.long).to(device)\n",
    "        \n",
    "        # Forward pass\n",
    "        outputs = model(words)\n",
    "        # if y would be one-hot, we must apply\n",
    "        # labels = torch.max(labels, 1)[1]\n",
    "        loss = criterion(outputs, labels)\n",
    "        \n",
    "        # Backward and optimize\n",
    "        optimizer.zero_grad()\n",
    "        loss.backward()\n",
    "        optimizer.step()\n",
    "        \n",
    "    if (epoch+1) % 100 == 0:\n",
    "        epochs_list.append(epoch)\n",
    "        loss_list.append(loss.item())\n",
    "        print (f'Epoch [{epoch+1}/{num_epochs}], Loss: {loss.item():.4f}')"
   ]
  },
  {
   "cell_type": "markdown",
   "id": "511a2ea3-1d62-487a-81c3-df97bf37331f",
   "metadata": {},
   "source": [
    "## Seeing the relationship between loss and epochs\n",
    "We can visualizat how the loss decreases with the number of epochs increasing. After a certain epoch_size, the loss rate stops decreasing significantly. \n",
    "That's when we know there is no need to run more epochs."
   ]
  },
  {
   "cell_type": "code",
   "execution_count": 40,
   "id": "a16e37ca-637d-4194-9c38-5c9c10e6faf9",
   "metadata": {},
   "outputs": [
    {
     "data": {
      "image/png": "[encoded data removed]",
      "text/plain": [
       "<Figure size 640x480 with 1 Axes>"
      ]
     },
     "metadata": {},
     "output_type": "display_data"
    }
   ],
   "source": [
    "plt.plot(epochs_list, loss_list, label='Training Loss')\n",
    "for x, y in zip(epochs_list, loss_list):\n",
    "    plt.annotate(f'{y:.4f}', xy=(x, y), xytext=(0, 5), textcoords='offset points', ha='center')\n",
    "plt.xlabel('Epochs')\n",
    "plt.ylabel('Loss')\n",
    "plt.title('Training Loss over Epochs')\n",
    "plt.legend()\n",
    "plt.show()"
   ]
  },
  {
   "cell_type": "markdown",
   "id": "fc755087-3d0f-4138-a551-84fcfec17f99",
   "metadata": {},
   "source": [
    "## Save trained model to file"
   ]
  },
  {
   "cell_type": "code",
   "execution_count": 43,
   "id": "7d2d1043-c0f3-4a2c-a5da-5f20117e8ddd",
   "metadata": {},
   "outputs": [
    {
     "name": "stdout",
     "output_type": "stream",
     "text": [
      "Training complete. file saved to chatbot_data.pth\n"
     ]
    }
   ],
   "source": [
    "data = {\n",
    "\"model_state\": model.state_dict(),\n",
    "\"input_size\": input_size,\n",
    "\"hidden_size\": hidden_size,\n",
    "\"output_size\": output_size,\n",
    "\"all_words\": all_words,\n",
    "\"tags\": tags\n",
    "}\n",
    "\n",
    "FILE = \"chatbot_data.pth\"\n",
    "torch.save(data, FILE)\n",
    "\n",
    "print(f'Training complete. file saved to {FILE}')"
   ]
  },
  {
   "cell_type": "markdown",
   "id": "24682d71-7c76-41e5-96b2-24341c6d5aae",
   "metadata": {},
   "source": [
    "## Loading and Using the Model\n",
    "Now we can load the trained model from the file and use it."
   ]
  },
  {
   "cell_type": "code",
   "execution_count": 45,
   "id": "468fd02d-d0cd-423a-b2ba-76532ce6a073",
   "metadata": {},
   "outputs": [
    {
     "data": {
      "text/plain": [
       "NeuralNet(\n",
       "  (l1): Linear(in_features=23, out_features=8, bias=True)\n",
       "  (l2): Linear(in_features=8, out_features=8, bias=True)\n",
       "  (l3): Linear(in_features=8, out_features=8, bias=True)\n",
       "  (relu): ReLU()\n",
       ")"
      ]
     },
     "execution_count": 45,
     "metadata": {},
     "output_type": "execute_result"
    }
   ],
   "source": [
    "device = torch.device('cuda' if torch.cuda.is_available() else 'cpu')\n",
    "\n",
    "FILE = \"chatbot_data.pth\"\n",
    "data = torch.load(FILE)\n",
    "\n",
    "input_size = data[\"input_size\"]\n",
    "hidden_size = data[\"hidden_size\"]\n",
    "output_size = data[\"output_size\"]\n",
    "all_words = data['all_words']\n",
    "tags = data['tags']\n",
    "model_state = data[\"model_state\"]\n",
    "\n",
    "model = NeuralNet(input_size, hidden_size, output_size).to(device)\n",
    "model.load_state_dict(model_state)\n",
    "model.eval()"
   ]
  },
  {
   "cell_type": "markdown",
   "id": "d414e52d-2b9a-42f9-a937-2138d216eec7",
   "metadata": {},
   "source": [
    "Let's see how the model works in practice"
   ]
  },
  {
   "cell_type": "code",
   "execution_count": 56,
   "id": "0a2ba294-7cdd-4f1e-b494-f3f110333bad",
   "metadata": {},
   "outputs": [
    {
     "name": "stdout",
     "output_type": "stream",
     "text": [
      "Output from the model tensor([[-0.5336, -6.6284, -6.7773, -1.3415, -0.6749,  9.6294, -6.5134, -9.3251]],\n",
      "       grad_fn=<AddmmBackward0>)\n",
      "Prediction tensor([5])\n",
      "Predicted item: 5\n",
      "Predicted tag: greeting\n",
      "Probabilities: tensor([[3.8568e-05, 8.6957e-08, 7.4926e-08, 1.7193e-05, 3.3486e-05, 9.9991e-01,\n",
      "         9.7553e-08, 5.8633e-09]], grad_fn=<SoftmaxBackward0>)\n",
      "Probabilities first element: tensor([3.8568e-05, 8.6957e-08, 7.4926e-08, 1.7193e-05, 3.3486e-05, 9.9991e-01,\n",
      "        9.7553e-08, 5.8633e-09], grad_fn=<SelectBackward0>)\n",
      "Probability of predicted item: tensor(0.9999, grad_fn=<SelectBackward0>)\n"
     ]
    }
   ],
   "source": [
    "question = \"Hi\"\n",
    "sentence = tokenize(question)\n",
    "X = bag_of_words(sentence, all_words)\n",
    "X = X.reshape(1, X.shape[0])\n",
    "X = torch.from_numpy(X).to(device)\n",
    "\n",
    "output = model(X)\n",
    "print(\"Output from the model\", output)\n",
    "\n",
    "_, predicted = torch.max(output, dim=1)\n",
    "print(\"Prediction\", predicted)\n",
    "print(\"Predicted item:\", predicted.item())\n",
    "\n",
    "tag = tags[predicted.item()]\n",
    "print(\"Predicted tag:\", tag)\n",
    "\n",
    "probs = torch.softmax(output, dim=1)\n",
    "print(\"Probabilities:\", probs)\n",
    "print(\"Probabilities first element:\", probs[0])\n",
    "\n",
    "prob = probs[0][predicted.item()]\n",
    "print(\"Probability of predicted item:\", prob)"
   ]
  },
  {
   "cell_type": "markdown",
   "id": "f79a9d07-920c-45be-94c3-9bfd2ad440fc",
   "metadata": {},
   "source": [
    "We can require an input from the user and get a response from the model. For that first we create a function."
   ]
  },
  {
   "cell_type": "code",
   "execution_count": 63,
   "id": "a3e7ae85-9b55-4824-a0c1-70071ae4fe48",
   "metadata": {},
   "outputs": [],
   "source": [
    "def get_response(msg):\n",
    "    sentence = tokenize(msg)\n",
    "    X = bag_of_words(sentence, all_words)\n",
    "    X = X.reshape(1, X.shape[0])\n",
    "    X = torch.from_numpy(X).to(device)\n",
    "\n",
    "    output = model(X)\n",
    "    _, predicted = torch.max(output, dim=1)\n",
    "\n",
    "    tag = tags[predicted.item()]\n",
    "\n",
    "    probs = torch.softmax(output, dim=1)\n",
    "    prob = probs[0][predicted.item()]\n",
    "    if prob.item() > 0.75:\n",
    "        for intent in intents['intents']:\n",
    "            if tag == intent[\"tag\"]:\n",
    "                return random.choice(intent['responses'])\n",
    "\n",
    "    return \"Sorry, I didn't understand the question. Could you reformulate please?\""
   ]
  },
  {
   "cell_type": "markdown",
   "id": "da8b8f96-334e-4d6a-8340-e5346e9fbe11",
   "metadata": {},
   "source": [
    "Now we create a console input interface where you can talk to the chatbot."
   ]
  },
  {
   "cell_type": "code",
   "execution_count": 51,
   "id": "3979e2fd-4798-423c-b37d-420f96acd16c",
   "metadata": {},
   "outputs": [
    {
     "name": "stdout",
     "output_type": "stream",
     "text": [
      "Let's chat! (type 'quit' to exit)\n"
     ]
    },
    {
     "name": "stdin",
     "output_type": "stream",
     "text": [
      "You:  Hi\n"
     ]
    },
    {
     "name": "stdout",
     "output_type": "stream",
     "text": [
      "Hi\n"
     ]
    },
    {
     "name": "stdin",
     "output_type": "stream",
     "text": [
      "You:  Hello\n"
     ]
    },
    {
     "name": "stdout",
     "output_type": "stream",
     "text": [
      "Sorry, I didn't understand the question. Could you reformulate please?\n"
     ]
    },
    {
     "name": "stdin",
     "output_type": "stream",
     "text": [
      "You:  Hey\n"
     ]
    },
    {
     "name": "stdout",
     "output_type": "stream",
     "text": [
      "Hello\n"
     ]
    },
    {
     "name": "stdin",
     "output_type": "stream",
     "text": [
      "You:  Where do you live\n"
     ]
    },
    {
     "name": "stdout",
     "output_type": "stream",
     "text": [
      "I currently live in the Greater Zubrovka area.\n"
     ]
    },
    {
     "name": "stdin",
     "output_type": "stream",
     "text": [
      "You:  quit\n"
     ]
    }
   ],
   "source": [
    "if __name__ == \"__main__\":\n",
    "    print(\"Let's chat! (type 'quit' to exit)\")\n",
    "    while True:\n",
    "        # sentence = \"do you use credit cards?\"\n",
    "        sentence = input(\"You: \")\n",
    "        if sentence == \"quit\":\n",
    "            break\n",
    "\n",
    "        resp = get_response(sentence)\n",
    "        print(resp)"
   ]
  },
  {
   "cell_type": "code",
   "execution_count": null,
   "id": "c29f7d92-2ce0-403a-b615-caca6b673b10",
   "metadata": {},
   "outputs": [],
   "source": []
  }
 ],
 "metadata": {
  "kernelspec": {
   "display_name": "Python (venv)",
   "language": "python",
   "name": "venv"
  },
  "language_info": {
   "codemirror_mode": {
    "name": "ipython",
    "version": 3
   },
   "file_extension": ".py",
   "mimetype": "text/x-python",
   "name": "python",
   "nbconvert_exporter": "python",
   "pygments_lexer": "ipython3",
   "version": "3.11.3"
  }
 },
 "nbformat": 4,
 "nbformat_minor": 5
}
